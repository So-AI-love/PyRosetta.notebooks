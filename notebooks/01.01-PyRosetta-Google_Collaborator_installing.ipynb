{
  "nbformat": 4,
  "nbformat_minor": 0,
  "metadata": {
    "colab": {
      "name": "_PyRosetta on google drive setup.ipynb",
      "provenance": [],
      "collapsed_sections": []
    },
    "kernelspec": {
      "display_name": "Python 3",
      "language": "python",
      "name": "python3"
    },
    "language_info": {
      "codemirror_mode": {
        "name": "ipython",
        "version": 3
      },
      "file_extension": ".py",
      "mimetype": "text/x-python",
      "name": "python",
      "nbconvert_exporter": "python",
      "pygments_lexer": "ipython3",
      "version": "3.7.6"
    },
    "toc": {
      "base_numbering": 1,
      "nav_menu": {},
      "number_sections": true,
      "sideBar": true,
      "skip_h1_title": false,
      "title_cell": "Table of Contents",
      "title_sidebar": "Contents",
      "toc_cell": false,
      "toc_position": {},
      "toc_section_display": true,
      "toc_window_display": false
    }
  },
  "cells": [
    {
      "cell_type": "markdown",
      "metadata": {
        "id": "lL6dhlcfll0F"
      },
      "source": [
        "# installing Test for the [PyRosetta](http://www.pyrosetta.org/home) via google colab"
      ]
    },
    {
      "cell_type": "code",
      "metadata": {
        "id": "KHxGQa_oln4R",
        "outputId": "7c861bae-b8dc-45ee-913a-35951dafa78b",
        "colab": {
          "base_uri": "https://localhost:8080/"
        }
      },
      "source": [
        "%cd /content\n",
        "!wget --http-user=\"Academic_User\" --http-password=\"Xry3x4\" https://www.rosettacommons.org/downloads/academic/3.12/rosetta_bin_linux_3.12_bundle.tgz\n",
        "!tar -xvzf rosetta_bin_linux_3.12_bundle.tgz\n",
        "!rm rosetta_bin_linux_3.12_bundle.tgz"
      ],
      "execution_count": null,
      "outputs": [
        {
          "output_type": "stream",
          "text": [
            "/content\n",
            "--2020-12-07 09:44:58--  https://www.rosettacommons.org/downloads/academic/3.12/rosetta_bin_linux_3.12_bundle.tgz\n",
            "Resolving www.rosettacommons.org (www.rosettacommons.org)... 128.95.160.152\n",
            "Connecting to www.rosettacommons.org (www.rosettacommons.org)|128.95.160.152|:443... connected.\n",
            "HTTP request sent, awaiting response... 401 Authorization Required\n",
            "Authentication selected: Basic realm=\"Rosetta Downloads - Academic License Required\"\n",
            "Connecting to www.rosettacommons.org (www.rosettacommons.org)|128.95.160.152|:443... connected.\n",
            "HTTP request sent, awaiting response... 200 OK\n",
            "Length: 18832301369 (18G) [application/x-gzip]\n",
            "Saving to: ‘rosetta_bin_linux_3.12_bundle.tgz’\n",
            "\n",
            "               rose   9%[>                   ]   1.65G  22.4MB/s    eta 12m 25s"
          ],
          "name": "stdout"
        }
      ]
    },
    {
      "cell_type": "code",
      "metadata": {
        "id": "frhI0_39lpDG"
      },
      "source": [
        "!sudo apt-get install build-essential\n",
        "!sudo apt-get install zlib1g-dev\n",
        "%cd rosetta*/main/source\n",
        "%cd '/content/rosetta_bin_linux_2020.08.61146_bundle/main/source'\n",
        "!./scons.py -j 2 mode=release bin"
      ],
      "execution_count": null,
      "outputs": []
    },
    {
      "cell_type": "markdown",
      "metadata": {
        "id": "9gKH74R1lVKH"
      },
      "source": [
        "<!--NOTEBOOK_HEADER-->\n",
        "*This notebook contains material from [PyRosetta](https://RosettaCommons.github.io/PyRosetta.notebooks);\n",
        "content is available [on Github](https://github.com/RosettaCommons/PyRosetta.notebooks.git).*"
      ]
    },
    {
      "cell_type": "markdown",
      "metadata": {
        "id": "umeCu8CClVKH"
      },
      "source": [
        "<!--NAVIGATION-->\n",
        "< [How to Get Started](http://nbviewer.jupyter.org/github/RosettaCommons/PyRosetta.notebooks/blob/master/notebooks/01.00-How-to-Get-Started.ipynb) | [Contents](toc.ipynb) | [Index](index.ipynb) | [PyRosetta Google Drive Usage Example](http://nbviewer.jupyter.org/github/RosettaCommons/PyRosetta.notebooks/blob/master/notebooks/01.02-PyRosetta-Google-Drive-Usage-Example.ipynb) ><p><a href=\"https://colab.research.google.com/github/RosettaCommons/PyRosetta.notebooks/blob/master/notebooks/01.01-PyRosetta-Google-Drive-Setup.ipynb\"><img align=\"left\" src=\"https://colab.research.google.com/assets/colab-badge.svg\" alt=\"Open in Colab\" title=\"Open in Google Colaboratory\"></a>"
      ]
    },
    {
      "cell_type": "markdown",
      "metadata": {
        "id": "F50yIT3_lVKH"
      },
      "source": [
        "# PyRosetta Google Drive Setup"
      ]
    },
    {
      "cell_type": "markdown",
      "metadata": {
        "id": "bmX19eValVKH"
      },
      "source": [
        "Run this notebook to install PyRosetta in Colab. You will only need to do this once. Afterwards, you will be able to initialize and use PyRosetta in any notebook in Colab."
      ]
    },
    {
      "cell_type": "code",
      "metadata": {
        "id": "7avg_MNH3myr"
      },
      "source": [
        "# Mounting Google Drive and add it to Python sys path  \n",
        "\n",
        "google_drive_mount_point = '/content/google_drive'\n",
        "\n",
        "import os, sys, time\n",
        "\n",
        "if 'google.colab' in sys.modules:\n",
        "    from google.colab import drive\n",
        "    drive.mount(google_drive_mount_point)\n",
        "\n",
        "if not os.getenv(\"DEBUG\"):\n",
        "    google_drive = google_drive_mount_point + '/My Drive'\n",
        "    google_drive_prefix = google_drive + '/prefix'\n",
        "\n",
        "    if not os.path.isdir(google_drive_prefix):\n",
        "        os.mkdir(google_drive_prefix)\n",
        "\n",
        "    pyrosetta_install_prefix_path = '/content/prefix'\n",
        "    if os.path.islink(pyrosetta_install_prefix_path):\n",
        "        os.unlink(pyrosetta_install_prefix_path)\n",
        "    os.symlink(google_drive_prefix, pyrosetta_install_prefix_path)\n",
        "\n",
        "    sys.path.insert(0, pyrosetta_install_prefix_path)"
      ],
      "execution_count": null,
      "outputs": []
    },
    {
      "cell_type": "code",
      "metadata": {
        "id": "FYTdAhCGQBoa"
      },
      "source": [
        "if not os.getenv(\"DEBUG\"):\n",
        "    os.environ[\"PYTHONPATH\"] = os.environ[\"PYTHONPATH\"] + ':' + pyrosetta_install_prefix_path"
      ],
      "execution_count": null,
      "outputs": []
    },
    {
      "cell_type": "code",
      "metadata": {
        "code_folding": [],
        "id": "hved7Vzd8FTm"
      },
      "source": [
        "if not os.getenv(\"DEBUG\"):\n",
        "    #sys.path.insert(0, google_drive_packages_path)\n",
        "\n",
        "    # installing PyRosetta\n",
        "    if sys.version_info.major != 3 or sys.version_info.minor != 6:\n",
        "        print('Need Python-3.6 to run!')\n",
        "        sys.exit(1)\n",
        "\n",
        "    import_start_time = time.time()\n",
        "\n",
        "    # upload PyRosetta Linux package into your google drive and put it path here\n",
        "    pyrosetta_distr_path = google_drive.replace(' ', '\\\\ ') + '/PyRosetta/*'\n",
        "\n",
        "    # or alternatively you can download PyRosetta directly from GrayLab web site (but this might take some time!)\n",
        "    #!mkdir $notebook_path/PyRosetta\n",
        "    #!cd $notebook_path/PyRosetta && wget -O _PyRosetta_.tar.bz2 --user USERNAME --password PASSWORD http://graylab.jhu.edu/download/PyRosetta4/archive/release/PyRosetta4.MinSizeRel.python36.linux/PyRosetta4.MinSizeRel.python36.linux.release-227.tar.bz2   \n",
        "    #pyrosetta_distr_path = notebook_path + '/PyRosetta/_PyRosetta_.tar.bz2'\n",
        "\n",
        "    !mkdir _PyRosetta_\n",
        "    !tar xjf $pyrosetta_distr_path -C _PyRosetta_ --strip-components=1\n",
        "    !cd _PyRosetta_/setup && python setup.py install --install-lib=$pyrosetta_install_prefix_path\n",
        "    !rm -rf _PyRosetta_\n",
        "\n",
        "    import_end_time = time.time()\n",
        "\n",
        "    print(f'PyRosetta setup took: {import_end_time - import_start_time:.1f}s...')"
      ],
      "execution_count": null,
      "outputs": []
    },
    {
      "cell_type": "code",
      "metadata": {
        "id": "U3XT5Gza5kPj"
      },
      "source": [
        "if not os.getenv(\"DEBUG\"):\n",
        "    for e in os.listdir(pyrosetta_install_prefix_path):\n",
        "        sys.path.append(pyrosetta_install_prefix_path + '/' + e)"
      ],
      "execution_count": null,
      "outputs": []
    },
    {
      "cell_type": "code",
      "metadata": {
        "id": "bZr-M0cnaOiE"
      },
      "source": [
        "from pyrosetta import *\n",
        "pyrosetta.init()"
      ],
      "execution_count": null,
      "outputs": []
    },
    {
      "cell_type": "markdown",
      "metadata": {
        "id": "Z9sX62ETlVKH"
      },
      "source": [
        "#### Install third-party external packages"
      ]
    },
    {
      "cell_type": "markdown",
      "metadata": {
        "id": "mNJ8kBjilVKI"
      },
      "source": [
        "Finally, install third-party external packages using _either_ `pip` or `conda`."
      ]
    },
    {
      "cell_type": "markdown",
      "metadata": {
        "id": "7xaLqMXdlVKI"
      },
      "source": [
        "##### Pip:"
      ]
    },
    {
      "cell_type": "code",
      "metadata": {
        "id": "WB_Vl_gylVKI"
      },
      "source": [
        "if not os.getenv(\"DEBUG\"):\n",
        "    !pip install attrs billiard biopython blosc dask dask-jobqueue distributed GitPython graphviz jupyter matplotlib numpy pandas py3Dmol scipy seaborn traitlets --user"
      ],
      "execution_count": null,
      "outputs": []
    },
    {
      "cell_type": "markdown",
      "metadata": {
        "id": "A7RKmIZGlVKI"
      },
      "source": [
        "##### Conda:"
      ]
    },
    {
      "cell_type": "markdown",
      "metadata": {
        "id": "qc2OmitKlVKI"
      },
      "source": [
        "Rather than `pip`, `conda` can be used to install required third-party external packages specified in the `environment.yml` file. For installation of the new `conda` environment:\n",
        "\n",
        "> conda env create -f environment.yml\n",
        "\n",
        "then activate it:\n",
        "\n",
        "> conda activate PyRosetta.notebooks\n",
        "\n",
        "For your new conda environment to show up as a kernel option in Jupyter, you may have to register your custom kernel with Jupyter:\n",
        "\n",
        "> python -m ipykernel install --user --name PyRosetta.notebooks\n",
        "\n",
        "Installed kernels are listed with:\n",
        "\n",
        "> jupyter kernelspec list\n"
      ]
    },
    {
      "cell_type": "markdown",
      "metadata": {
        "id": "MMJyZFjzlVKI"
      },
      "source": [
        "<!--NAVIGATION-->\n",
        "< [How to Get Started](http://nbviewer.jupyter.org/github/RosettaCommons/PyRosetta.notebooks/blob/master/notebooks/01.00-How-to-Get-Started.ipynb) | [Contents](toc.ipynb) | [Index](index.ipynb) | [PyRosetta Google Drive Usage Example](http://nbviewer.jupyter.org/github/RosettaCommons/PyRosetta.notebooks/blob/master/notebooks/01.02-PyRosetta-Google-Drive-Usage-Example.ipynb) ><p><a href=\"https://colab.research.google.com/github/RosettaCommons/PyRosetta.notebooks/blob/master/notebooks/01.01-PyRosetta-Google-Drive-Setup.ipynb\"><img align=\"left\" src=\"https://colab.research.google.com/assets/colab-badge.svg\" alt=\"Open in Colab\" title=\"Open in Google Colaboratory\"></a>"
      ]
    }
  ]
}